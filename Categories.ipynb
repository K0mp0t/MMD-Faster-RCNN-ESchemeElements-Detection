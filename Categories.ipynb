{
 "cells": [
  {
   "cell_type": "markdown",
   "metadata": {},
   "source": [
    "**Open COCO-json**"
   ]
  },
  {
   "cell_type": "code",
   "execution_count": 30,
   "metadata": {},
   "outputs": [],
   "source": [
    "import json\n",
    "\n",
    "with open(f'E:/Peter/Scheme/cocosplit/labels_train.json', 'r+') as file:\n",
    "    data = json.load(file)"
   ]
  },
  {
   "cell_type": "markdown",
   "metadata": {},
   "source": [
    "**Some useful functions**"
   ]
  },
  {
   "cell_type": "code",
   "execution_count": 28,
   "metadata": {},
   "outputs": [],
   "source": [
    "import matplotlib.pyplot as plt\n",
    "import matplotlib.image as mpimg\n",
    "import os.path as osp\n",
    "\n",
    "\n",
    "def get_category_annotations(ann_data, category_id):\n",
    "    for ann in ann_data:\n",
    "        if ann['category_id'] == category_id:\n",
    "            yield ann\n",
    "       \n",
    "    \n",
    "def get_image_by_id(images, image_id):\n",
    "    for image in images:\n",
    "        if image['id'] == image_id:\n",
    "            return image\n",
    "\n",
    "        \n",
    "def get_category_by_id(categories, category_id):\n",
    "    for cat in categories:\n",
    "        if cat['id'] == category_id:\n",
    "            return cat\n",
    "    \n",
    "    \n",
    "def get_cordinates(segmentation):\n",
    "    xs = list()\n",
    "    ys = list()\n",
    "    for i in range(len(segmentation)):\n",
    "        if i % 2 == 0:\n",
    "            xs.append(segmentation[i])\n",
    "        else:\n",
    "            ys.append(segmentation[i])\n",
    "    return [int(min(ys)), int(max(ys)), int(min(xs)), int(max(xs))]\n",
    "    \n",
    "    \n",
    "def get_category_examples_num(annotations, category_id):\n",
    "    return len([a for a in annotations if a['category_id'] == category_id])\n",
    "\n",
    "\n",
    "def plot_annotation(data, annotation, images_dir, cat_id):\n",
    "    image_name = get_image_by_id(data['images'], annotation['image_id'])['file_name']\n",
    "    image = mpimg.imread(osp.join(images_dir, image_name))\n",
    "    c = get_cordinates(annotation['segmentation'][0])\n",
    "    cat_name = get_category_by_id(data['categories'], cat_id)['name']\n",
    "    cat_examples_num = ' - ' + str(get_category_examples_num(data['annotations'], cat_id))\n",
    "    im_path = ' - ' + image_name\n",
    "    plt.title(cat_name + cat_examples_num + im_path)\n",
    "    plt.imshow(image[c[0]: c[1], c[2]: c[3]], cmap='gray')\n",
    "    \n",
    "def get_filenames_for_category(data, cat_id):\n",
    "    res = list()\n",
    "    anns = get_category_annotations(data['annotations'], cat_id)\n",
    "    for ann in anns:\n",
    "        res.append(get_image_by_id(data['images'], ann['image_id'])['path'])\n",
    "    return res\n",
    "\n",
    "def get_annotations_by_image_id(data, image_id):\n",
    "    res = []\n",
    "    \n",
    "    for annotation in data['annotations']:\n",
    "        if annotation['image_id'] == image_id:\n",
    "            res.append(annotation)\n",
    "            \n",
    "    return res"
   ]
  },
  {
   "cell_type": "markdown",
   "metadata": {},
   "source": [
    "**Get all categories list**"
   ]
  },
  {
   "cell_type": "code",
   "execution_count": 4,
   "metadata": {},
   "outputs": [
    {
     "data": {
      "text/plain": [
       "[(0, 'v', 229), (1, 'h', 1791)]"
      ]
     },
     "execution_count": 4,
     "metadata": {},
     "output_type": "execute_result"
    }
   ],
   "source": [
    "[(c['id'] ,c['name'], get_category_examples_num(data['annotations'], c['id'])) for c in data['categories']]"
   ]
  },
  {
   "cell_type": "markdown",
   "metadata": {},
   "source": [
    "**Plot category examples**\n",
    "\n",
    "(run plot_annotation again to get the next example)"
   ]
  },
  {
   "cell_type": "code",
   "execution_count": 20,
   "metadata": {},
   "outputs": [],
   "source": [
    "cat_id = 1\n",
    "anns = get_category_annotations(data['annotations'], cat_id)"
   ]
  },
  {
   "cell_type": "code",
   "execution_count": 24,
   "metadata": {
    "scrolled": true
   },
   "outputs": [
    {
     "data": {
      "image/png": "[encoded data removed]",
      "text/plain": [
       "<Figure size 432x288 with 1 Axes>"
      ]
     },
     "metadata": {
      "needs_background": "light"
     },
     "output_type": "display_data"
    }
   ],
   "source": [
    "plot_annotation(data, next(anns), f'E:/Peter/Scheme/scheme_copy/', cat_id)"
   ]
  },
  {
   "cell_type": "markdown",
   "metadata": {},
   "source": [
    "**Check images in COCO-json file**"
   ]
  },
  {
   "cell_type": "code",
   "execution_count": 4,
   "metadata": {},
   "outputs": [
    {
     "data": {
      "text/plain": [
       "['scheme_111.png',\n",
       " 'scheme_192.png',\n",
       " 'scheme_193.png',\n",
       " 'scheme_082.png',\n",
       " 'scheme_042.png',\n",
       " 'scheme_181.png',\n",
       " 'scheme_171.png',\n",
       " 'scheme_103.png',\n",
       " 'scheme_054.png',\n",
       " 'scheme_081.png',\n",
       " 'scheme_104.png',\n",
       " 'scheme_120.png',\n",
       " 'scheme_165.png',\n",
       " 'scheme_228.png',\n",
       " 'scheme_133.png',\n",
       " 'scheme_107.png',\n",
       " 'scheme_030.png',\n",
       " 'scheme_064.png',\n",
       " 'scheme_004.png',\n",
       " 'scheme_195.png',\n",
       " 'scheme_013.png',\n",
       " 'scheme_197.png',\n",
       " 'scheme_118.png',\n",
       " 'scheme_084.png',\n",
       " 'scheme_199.png',\n",
       " 'scheme_210.png',\n",
       " 'scheme_219.png',\n",
       " 'scheme_160.png',\n",
       " 'scheme_200.png',\n",
       " 'scheme_065.png',\n",
       " 'scheme_177.png',\n",
       " 'scheme_184.png',\n",
       " 'scheme_038.png',\n",
       " 'scheme_147.png',\n",
       " 'scheme_164.png',\n",
       " 'scheme_162.png',\n",
       " 'scheme_108.png',\n",
       " 'scheme_243.png']"
      ]
     },
     "execution_count": 4,
     "metadata": {},
     "output_type": "execute_result"
    }
   ],
   "source": [
    "[i['file_name'] for i in data['images']]"
   ]
  },
  {
   "cell_type": "code",
   "execution_count": 31,
   "metadata": {},
   "outputs": [
    {
     "name": "stdout",
     "output_type": "stream",
     "text": [
      "26\n",
      "32\n",
      "19\n",
      "5\n",
      "14\n",
      "13\n",
      "7\n",
      "6\n",
      "31\n",
      "61\n",
      "12\n",
      "31\n",
      "38\n",
      "95\n",
      "28\n",
      "33\n",
      "35\n",
      "17\n",
      "11\n",
      "54\n",
      "16\n",
      "10\n",
      "13\n",
      "12\n",
      "24\n",
      "12\n",
      "37\n",
      "9\n",
      "13\n",
      "8\n",
      "42\n",
      "13\n",
      "25\n",
      "12\n",
      "19\n",
      "41\n",
      "29\n",
      "10\n",
      "12\n",
      "23\n",
      "19\n",
      "17\n",
      "12\n",
      "15\n",
      "25\n",
      "5\n",
      "12\n",
      "19\n",
      "9\n",
      "14\n",
      "4\n",
      "21\n",
      "32\n",
      "53\n",
      "32\n",
      "4\n",
      "24\n",
      "61\n",
      "17\n",
      "7\n",
      "7\n",
      "35\n",
      "33\n",
      "23\n",
      "6\n",
      "28\n",
      "100\n",
      "25\n",
      "16\n",
      "11\n",
      "45\n",
      "21\n",
      "9\n",
      "23\n",
      "6\n",
      "28\n",
      "7\n",
      "46\n",
      "5\n",
      "11\n",
      "90\n",
      "6\n",
      "13\n",
      "41\n",
      "8\n",
      "27\n"
     ]
    }
   ],
   "source": [
    "for image in data['images']:\n",
    "    print(len(get_annotations_by_image_id(data, image['id'])))"
   ]
  },
  {
   "cell_type": "code",
   "execution_count": null,
   "metadata": {},
   "outputs": [],
   "source": []
  }
 ],
 "metadata": {
  "kernelspec": {
   "display_name": "Python 3",
   "language": "python",
   "name": "python3"
  },
  "language_info": {
   "codemirror_mode": {
    "name": "ipython",
    "version": 3
   },
   "file_extension": ".py",
   "mimetype": "text/x-python",
   "name": "python",
   "nbconvert_exporter": "python",
   "pygments_lexer": "ipython3",
   "version": "3.8.5"
  }
 },
 "nbformat": 4,
 "nbformat_minor": 4
}
