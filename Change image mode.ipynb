{
 "cells": [
  {
   "cell_type": "code",
   "execution_count": 5,
   "metadata": {},
   "outputs": [],
   "source": [
    "from PIL import Image\n",
    "import os\n",
    "import sys\n",
    "\n",
    "def change_images_mode(directory_path, mode='RGB'):\n",
    "    \"\"\"Changes modes of images in given directory\n",
    "    \n",
    "    Args:\n",
    "        directory_path: string, path to images.\n",
    "        mode: string, the mode to which the image will be converted, \n",
    "            for choices take a look at https://pillow.readthedocs.io/en/5.1.x/handbook/concepts.html#concept-modes\n",
    "    \"\"\"\n",
    "    images = os.listdir(directory_path)\n",
    "    \n",
    "    for i in range(len(images)):\n",
    "        image_path = os.path.join(directory_path, images[i])\n",
    "        image = Image.open(image_path)\n",
    "        if image.mode != mode:\n",
    "            image = image.convert(mode)\n",
    "            image.save(image_path)\n",
    "        \n",
    "        print('\\r', end='')\n",
    "        print(f'{images[i]}', end='')"
   ]
  },
  {
   "cell_type": "code",
   "execution_count": 16,
   "metadata": {
    "scrolled": true
   },
   "outputs": [
    {
     "name": "stdout",
     "output_type": "stream",
     "text": [
      "scheme_247.png"
     ]
    }
   ],
   "source": [
    "change_images_mode('E:/Peter/Scheme/scheme_copy', 'L')"
   ]
  },
  {
   "cell_type": "code",
   "execution_count": 9,
   "metadata": {},
   "outputs": [],
   "source": [
    "def make_formats_dictionary(directory_path):\n",
    "    \"\"\"Makes quantitative format dictionary for given directory.\n",
    "    \n",
    "    Args:\n",
    "        directory_path: string, directory to check\n",
    "        \n",
    "    Returns:\n",
    "        dictionary where key is format and value is number of format pictures \n",
    "    \"\"\"\n",
    "    dir_images = os.listdir(directory_path)\n",
    "    formats = {}\n",
    "\n",
    "    for i in range(len(dir_images)):\n",
    "        im_path = os.path.join(directory_path, dir_images[i])\n",
    "        image = Image.open(im_path)\n",
    "        if image.mode in formats:\n",
    "            formats[image.mode] += 1\n",
    "        else:\n",
    "            formats[image.mode] = 1\n",
    "    \n",
    "    return formats"
   ]
  },
  {
   "cell_type": "code",
   "execution_count": 15,
   "metadata": {},
   "outputs": [
    {
     "data": {
      "text/plain": [
       "{'RGB': 11, 'P': 235, 'L': 1}"
      ]
     },
     "execution_count": 15,
     "metadata": {},
     "output_type": "execute_result"
    }
   ],
   "source": [
    "make_formats_dictionary('E:/Peter/Scheme/scheme_copy')"
   ]
  },
  {
   "cell_type": "code",
   "execution_count": null,
   "metadata": {},
   "outputs": [],
   "source": []
  }
 ],
 "metadata": {
  "kernelspec": {
   "display_name": "Python 3",
   "language": "python",
   "name": "python3"
  },
  "language_info": {
   "codemirror_mode": {
    "name": "ipython",
    "version": 3
   },
   "file_extension": ".py",
   "mimetype": "text/x-python",
   "name": "python",
   "nbconvert_exporter": "python",
   "pygments_lexer": "ipython3",
   "version": "3.8.5"
  }
 },
 "nbformat": 4,
 "nbformat_minor": 4
}
