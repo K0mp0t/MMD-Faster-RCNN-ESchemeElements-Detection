{
 "cells": [
  {
   "cell_type": "markdown",
   "metadata": {},
   "source": [
    "**Open file and make data copy for further comparison**"
   ]
  },
  {
   "cell_type": "code",
   "execution_count": 1,
   "metadata": {},
   "outputs": [],
   "source": [
    "import json\n",
    "\n",
    "with open(f'E:/Peter/Scheme/coco-annotator/datasets/scheme_copy/.exports/coco-1621363362.794772.json', 'r+') as file:\n",
    "    orig_data = json.load(file)"
   ]
  },
  {
   "cell_type": "code",
   "execution_count": 2,
   "metadata": {},
   "outputs": [
    {
     "name": "stdout",
     "output_type": "stream",
     "text": [
      "Wall time: 131 ms\n"
     ]
    }
   ],
   "source": [
    "%%time\n",
    "import copy\n",
    "\n",
    "data = copy.deepcopy(orig_data)"
   ]
  },
  {
   "cell_type": "markdown",
   "metadata": {},
   "source": [
    "**Make functions and dicts**"
   ]
  },
  {
   "cell_type": "code",
   "execution_count": 3,
   "metadata": {},
   "outputs": [],
   "source": [
    "image_id_shift = dict()\n",
    "categories_id_shift = dict()\n",
    "annotations_id_shift = dict()\n",
    "\n",
    "\n",
    "def make_shift_dict(orig_list, new_id=0):\n",
    "    id_shift_dict = dict()\n",
    "    \n",
    "    for e in orig_list:\n",
    "        if e['id'] in id_shift_dict:\n",
    "            raise KeyError('ID {} is in the dict!'.format(e['id']))\n",
    "        else:\n",
    "            id_shift_dict[e['id']] = new_id\n",
    "            new_id += 1\n",
    "            \n",
    "    return id_shift_dict\n",
    "\n",
    "def apply_shift(orig_list, shift_dict, key):\n",
    "    for e in orig_list:\n",
    "        if e[key] not in shift_dict:\n",
    "            raise KeyError('ID {} not in the dict!'.format(e[key]))\n",
    "        else:\n",
    "            e[key] = shift_dict[e[key]]\n",
    "    \n",
    "    return orig_list"
   ]
  },
  {
   "cell_type": "markdown",
   "metadata": {},
   "source": [
    "**Make shift dictionaries and apply them to our data.** \n",
    "\n",
    "Note that after shifting ids for images and categories in its dictionaries we must shift their ids everywhere in the exact same way."
   ]
  },
  {
   "cell_type": "code",
   "execution_count": 4,
   "metadata": {},
   "outputs": [],
   "source": [
    "image_id_shift = make_shift_dict(data['images'], 0)\n",
    "categories_id_shift = make_shift_dict(data['categories'], 0)\n",
    "annotations_id_shift = make_shift_dict(data['annotations'], 0)\n",
    "\n",
    "data['images'] = apply_shift(data['images'], image_id_shift, 'id') # image ids\n",
    "data['annotations'] = apply_shift(data['annotations'], annotations_id_shift, 'id') # annotation ids\n",
    "data['categories'] = apply_shift(data['categories'], categories_id_shift, 'id') # category ids\n",
    "data['annotaions'] = apply_shift(data['annotations'], image_id_shift, 'image_id') # image ids to annotations\n",
    "data['annotations'] = apply_shift(data['annotations'], categories_id_shift, 'category_id') # category ids to annotations"
   ]
  },
  {
   "cell_type": "markdown",
   "metadata": {},
   "source": [
    "**Write shifted dataset to a file**"
   ]
  },
  {
   "cell_type": "code",
   "execution_count": 5,
   "metadata": {},
   "outputs": [],
   "source": [
    "with open(f'E:/Peter/Scheme/datasets/18-05-labels-s.json', 'w+') as file:\n",
    "    json.dump(data, file)"
   ]
  },
  {
   "cell_type": "markdown",
   "metadata": {},
   "source": [
    "**Simply check that nothing has gone wrong**"
   ]
  },
  {
   "cell_type": "code",
   "execution_count": 9,
   "metadata": {},
   "outputs": [],
   "source": [
    "assert len(orig_data['images']) == len(data['images'])\n",
    "assert len(orig_data['categories']) == len(data['categories'])\n",
    "assert len(orig_data['annotations']) == len(data['annotations'])"
   ]
  },
  {
   "cell_type": "code",
   "execution_count": null,
   "metadata": {},
   "outputs": [],
   "source": []
  }
 ],
 "metadata": {
  "celltoolbar": "Необработанный формат ячейки",
  "kernelspec": {
   "display_name": "Python 3",
   "language": "python",
   "name": "python3"
  },
  "language_info": {
   "codemirror_mode": {
    "name": "ipython",
    "version": 3
   },
   "file_extension": ".py",
   "mimetype": "text/x-python",
   "name": "python",
   "nbconvert_exporter": "python",
   "pygments_lexer": "ipython3",
   "version": "3.8.5"
  }
 },
 "nbformat": 4,
 "nbformat_minor": 4
}
