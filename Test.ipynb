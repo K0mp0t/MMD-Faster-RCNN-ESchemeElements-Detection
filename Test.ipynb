{
 "cells": [
  {
   "cell_type": "code",
   "execution_count": 1,
   "metadata": {},
   "outputs": [
    {
     "name": "stdout",
     "output_type": "stream",
     "text": [
      "E:\\Peter\\Scheme\\mmdetection\n",
      " ’®¬ ў гбва®©бвўҐ E Ё¬ҐҐв ¬ҐвЄг Peter\n",
      " ‘ҐаЁ©­л© ­®¬Ґа в®¬ : 4214-DBB1\n",
      "\n",
      " ‘®¤Ґа¦Ё¬®Ґ Ї ЇЄЁ E:\\Peter\\Scheme\\mmdetection\n",
      "\n",
      "24.04.2021  15:06    <DIR>          .\n",
      "24.04.2021  15:06    <DIR>          ..\n",
      "24.04.2021  15:06    <DIR>          .dev_scripts\n",
      "24.04.2021  15:06    <DIR>          .github\n",
      "24.04.2021  15:06             1я438 .gitignore\n",
      "24.04.2021  15:06             1я176 .pre-commit-config.yaml\n",
      "24.04.2021  15:06               152 .readthedocs.yml\n",
      "24.04.2021  15:06    <DIR>          configs\n",
      "24.04.2021  15:06    <DIR>          demo\n",
      "24.04.2021  15:06    <DIR>          docker\n",
      "24.04.2021  15:06    <DIR>          docs\n",
      "24.04.2021  15:06            11я603 LICENSE\n",
      "24.04.2021  15:06    <DIR>          mmdet\n",
      "24.04.2021  15:06    <DIR>          mmdet.egg-info\n",
      "24.04.2021  15:06               300 pytest.ini\n",
      "24.04.2021  15:06             8я776 README.md\n",
      "24.04.2021  15:06             9я506 README_zh-CN.md\n",
      "24.04.2021  15:06    <DIR>          requirements\n",
      "24.04.2021  15:06               113 requirements.txt\n",
      "24.04.2021  15:06    <DIR>          resources\n",
      "24.04.2021  15:06               478 setup.cfg\n",
      "24.04.2021  15:06             6я025 setup.py\n",
      "24.04.2021  15:06    <DIR>          tests\n",
      "24.04.2021  15:06    <DIR>          tools\n",
      "              10 д ©«®ў         39я567 Ў ©в\n",
      "              14 Ї Ї®Є  566я003я150я848 Ў ©в бў®Ў®¤­®\n"
     ]
    }
   ],
   "source": [
    "%cd mmdetection\n",
    "!dir"
   ]
  },
  {
   "cell_type": "code",
   "execution_count": 2,
   "metadata": {},
   "outputs": [
    {
     "ename": "AttributeError",
     "evalue": "module 'mmcv' has no attribute '__version__'",
     "output_type": "error",
     "traceback": [
      "\u001b[1;31m---------------------------------------------------------------------------\u001b[0m",
      "\u001b[1;31mAttributeError\u001b[0m                            Traceback (most recent call last)",
      "\u001b[1;32m<ipython-input-2-e1359d1bf824>\u001b[0m in \u001b[0;36m<module>\u001b[1;34m\u001b[0m\n\u001b[0;32m      1\u001b[0m \u001b[1;32mimport\u001b[0m \u001b[0mmmcv\u001b[0m\u001b[1;33m\u001b[0m\u001b[1;33m\u001b[0m\u001b[0m\n\u001b[1;32m----> 2\u001b[1;33m \u001b[1;32mfrom\u001b[0m \u001b[0mmmdet\u001b[0m\u001b[1;33m.\u001b[0m\u001b[0mapis\u001b[0m \u001b[1;32mimport\u001b[0m \u001b[0mset_random_seed\u001b[0m\u001b[1;33m\u001b[0m\u001b[1;33m\u001b[0m\u001b[0m\n\u001b[0m\u001b[0;32m      3\u001b[0m \u001b[1;33m\u001b[0m\u001b[0m\n\u001b[0;32m      4\u001b[0m \u001b[1;33m\u001b[0m\u001b[0m\n\u001b[0;32m      5\u001b[0m \u001b[0mcfg\u001b[0m \u001b[1;33m=\u001b[0m \u001b[0mmmcv\u001b[0m\u001b[1;33m.\u001b[0m\u001b[0mConfig\u001b[0m\u001b[1;33m.\u001b[0m\u001b[0mfromfile\u001b[0m\u001b[1;33m(\u001b[0m\u001b[1;34m'E:/Peter/Scheme/configs/faster_rcnn_r50_fpn_1x_coco_stable.py'\u001b[0m\u001b[1;33m)\u001b[0m\u001b[1;33m\u001b[0m\u001b[1;33m\u001b[0m\u001b[0m\n",
      "\u001b[1;32mE:\\Peter\\Scheme\\mmdetection\\mmdet\\__init__.py\u001b[0m in \u001b[0;36m<module>\u001b[1;34m\u001b[0m\n\u001b[0;32m     18\u001b[0m \u001b[0mmmcv_minimum_version\u001b[0m \u001b[1;33m=\u001b[0m \u001b[1;34m'1.2.4'\u001b[0m\u001b[1;33m\u001b[0m\u001b[1;33m\u001b[0m\u001b[0m\n\u001b[0;32m     19\u001b[0m \u001b[0mmmcv_maximum_version\u001b[0m \u001b[1;33m=\u001b[0m \u001b[1;34m'1.4.0'\u001b[0m\u001b[1;33m\u001b[0m\u001b[1;33m\u001b[0m\u001b[0m\n\u001b[1;32m---> 20\u001b[1;33m \u001b[0mmmcv_version\u001b[0m \u001b[1;33m=\u001b[0m \u001b[0mdigit_version\u001b[0m\u001b[1;33m(\u001b[0m\u001b[0mmmcv\u001b[0m\u001b[1;33m.\u001b[0m\u001b[0m__version__\u001b[0m\u001b[1;33m)\u001b[0m\u001b[1;33m\u001b[0m\u001b[1;33m\u001b[0m\u001b[0m\n\u001b[0m\u001b[0;32m     21\u001b[0m \u001b[1;33m\u001b[0m\u001b[0m\n\u001b[0;32m     22\u001b[0m \u001b[1;33m\u001b[0m\u001b[0m\n",
      "\u001b[1;31mAttributeError\u001b[0m: module 'mmcv' has no attribute '__version__'"
     ]
    }
   ],
   "source": [
    "import mmcv\n",
    "from mmdet.apis import set_random_seed\n",
    "\n",
    "\n",
    "cfg = mmcv.Config.fromfile('E:/Peter/Scheme/configs/faster_rcnn_r50_fpn_1x_coco_stable.py')\n",
    "\n",
    "classes = ('ground', 'circuit breaker', 'withdrawable circuit breaker', 'single-phase circuit breaker', 'three-phase circuit breaker',\n",
    " 'differential circuit breaker 220V', 'differential circuit breaker 380V', 'RCD 220V', 'direct connection counter', 'withdrawable circuit breaker with motor drive',\n",
    " 'fuse switch disconnector', 'instrument current transformer', 'reactive power compensation device', 'Inductor', 'four-phase circuit breaker',\n",
    " 'motorized switch', 'three-phase switch', 'switch', 'voltage monitoring relay', 'surge protection device', 'fuse', 'motorized single-phase circuit breaker',\n",
    " 'motorized three-phase circuit breaker', 'transformer', 'motorizwd circuit breaker', 'capasitor ', 'lamp', 'photoresistor', 'two-phase circuit breaker')\n",
    "\n",
    "\n",
    "cfg.dataset_type = 'CocoDataset'\n",
    "\n",
    "cfg.data.train.ann_file = 'E:/Peter/Scheme/cocosplit/18-04-train.json'\n",
    "cfg.data.train.data_root = 'E:/Peter/Scheme/scheme_copy'\n",
    "cfg.data.train.img_prefix = f'' \n",
    "\n",
    "cfg.data.val.ann_file = 'E:/Peter/Scheme/cocosplit/18-04-test.json'\n",
    "cfg.data.val.data_root = 'E:/Peter/Scheme/scheme_copy'\n",
    "cfg.data.val.img_prefix = f''\n",
    "\n",
    "# classes = merge_classes(get_classes_from_dataset(cfg.data.train.ann_file), get_classes_from_dataset(cfg.data.train.ann_file))\n",
    "cfg.model.roi_head.bbox_head.num_classes = len(classes)\n",
    "cfg.data.val.classes = classes\n",
    "cfg.data.train.classes = classes\n",
    "\n",
    "cfg.log_config.interval = 104\n",
    "cfg.evaluation.interval = 50\n",
    "cfg.checkpoint_config.interval = 50\n",
    "\n",
    "cfg.lr_config.policy = 'step'\n",
    "cfg.work_dir = 'E:/Peter/Scheme/logs'\n",
    "\n",
    "# cfg.resume_from = '/content/drive/MyDrive/logs/logs-18-04/latest.pth'\n",
    "\n",
    "cfg.seed = 0\n",
    "set_random_seed(0, deterministic=False)\n",
    "cfg.gpu_ids = range(1)"
   ]
  },
  {
   "cell_type": "code",
   "execution_count": null,
   "metadata": {},
   "outputs": [],
   "source": []
  }
 ],
 "metadata": {
  "kernelspec": {
   "display_name": "Python 3",
   "language": "python",
   "name": "python3"
  },
  "language_info": {
   "codemirror_mode": {
    "name": "ipython",
    "version": 3
   },
   "file_extension": ".py",
   "mimetype": "text/x-python",
   "name": "python",
   "nbconvert_exporter": "python",
   "pygments_lexer": "ipython3",
   "version": "3.8.5"
  }
 },
 "nbformat": 4,
 "nbformat_minor": 4
}
