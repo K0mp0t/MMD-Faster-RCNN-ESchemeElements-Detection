{
 "cells": [
  {
   "cell_type": "code",
   "execution_count": 1,
   "metadata": {},
   "outputs": [],
   "source": [
    "import json\n",
    "import numpy as np\n",
    "import pandas as pd\n",
    "\n",
    "with open(f'E:/Peter/Scheme/datasets/26-05-full.json', 'r+') as file:\n",
    "    data = json.load(file)"
   ]
  },
  {
   "cell_type": "code",
   "execution_count": 3,
   "metadata": {},
   "outputs": [],
   "source": [
    "def get_image_by_id(images, image_id):\n",
    "    for image in images:\n",
    "        if image['id'] == image_id:\n",
    "            return image\n",
    "\n",
    "\n",
    "def get_bbox_square(annotation):\n",
    "    \"\"\"Calculates annotation bbox square and validates its coordinates.\n",
    "    \n",
    "    Args:\n",
    "        bbox_coordinates: list of coordinates, (top-left x, top-left y, width, height)\n",
    "        \n",
    "    Returns:\n",
    "        Given bbox square, float.\n",
    "    \"\"\"\n",
    "    \n",
    "    bbox_coordinates = annotation['bbox']\n",
    "    image = get_image_by_id(data['images'], annotation['image_id'])\n",
    "    \n",
    "    assert bbox_coordinates[0] >= 0\n",
    "    assert bbox_coordinates[1] >= 0\n",
    "    assert bbox_coordinates[2] > 0\n",
    "    assert bbox_coordinates[3] > 0\n",
    "    assert bbox_coordinates[0]+bbox_coordinates[2] <= image['width']\n",
    "    assert bbox_coordinates[1]+bbox_coordinates[3] <= image['height']\n",
    "    \n",
    "    return bbox_coordinates[2]*bbox_coordinates[3]\n",
    "\n",
    "def get_annotations_by_image_id(annotations, image_id):\n",
    "    result = list()\n",
    "    \n",
    "    for annotation in annotations:\n",
    "        if int(annotation['image_id']) == image_id:\n",
    "            result.append(annotation)\n",
    "            \n",
    "    return result\n",
    "\n",
    "def get_image_by_id(images, image_id):\n",
    "    for image in images:\n",
    "        if image['id'] == image_id:\n",
    "            return image"
   ]
  },
  {
   "cell_type": "code",
   "execution_count": 4,
   "metadata": {},
   "outputs": [
    {
     "data": {
      "text/plain": [
       "[(119, 'ground'),\n",
       " (120, 'circuit breaker'),\n",
       " (121, 'withdrawable circuit breaker'),\n",
       " (122, 'single-phase circuit breaker'),\n",
       " (123, 'three-phase circuit breaker'),\n",
       " (124, 'differential circuit breaker 220V'),\n",
       " (125, 'differential circuit breaker 380V'),\n",
       " (126, 'RCD 220V'),\n",
       " (127, 'direct connection counter'),\n",
       " (128, 'withdrawable circuit breaker with motor drive'),\n",
       " (129, 'fuse switch disconnector'),\n",
       " (130, 'instrument current transformer'),\n",
       " (131, 'reactive power compensation device'),\n",
       " (132, 'Inductor'),\n",
       " (133, 'four-phase circuit breaker'),\n",
       " (134, 'motorized switch'),\n",
       " (135, 'three-phase switch'),\n",
       " (136, 'switch'),\n",
       " (137, 'voltage monitoring relay'),\n",
       " (138, 'surge protection device'),\n",
       " (139, 'fuse'),\n",
       " (140, 'motorized single-phase circuit breaker'),\n",
       " (141, 'motorized three-phase circuit breaker'),\n",
       " (142, 'transformer'),\n",
       " (143, 'motorizwd circuit breaker'),\n",
       " (144, 'capasitor '),\n",
       " (145, 'lamp'),\n",
       " (146, 'photoresistor'),\n",
       " (148, 'two-phase circuit breaker'),\n",
       " (149, 'v'),\n",
       " (150, 'h')]"
      ]
     },
     "execution_count": 4,
     "metadata": {},
     "output_type": "execute_result"
    }
   ],
   "source": [
    "[(c['id'], c['name']) for c in data['categories']]"
   ]
  },
  {
   "cell_type": "code",
   "execution_count": 8,
   "metadata": {},
   "outputs": [
    {
     "name": "stdout",
     "output_type": "stream",
     "text": [
      "scheme_026.png\n",
      "scheme_027.png\n",
      "scheme_092.png\n",
      "scheme_125.png\n",
      "scheme_172.png\n",
      "scheme_225.png\n",
      "scheme_235.png\n",
      "scheme_229_3.png\n"
     ]
    }
   ],
   "source": [
    "for i in data['images']:\n",
    "    im_anns = [ann['category_id'] for ann in get_annotations_by_image_id(data['annotations'], i['id'])]\n",
    "    if 150 not in im_anns and 149 not in im_anns:\n",
    "        print(i['file_name'])"
   ]
  },
  {
   "cell_type": "code",
   "execution_count": null,
   "metadata": {},
   "outputs": [],
   "source": []
  }
 ],
 "metadata": {
  "kernelspec": {
   "display_name": "Python 3",
   "language": "python",
   "name": "python3"
  },
  "language_info": {
   "codemirror_mode": {
    "name": "ipython",
    "version": 3
   },
   "file_extension": ".py",
   "mimetype": "text/x-python",
   "name": "python",
   "nbconvert_exporter": "python",
   "pygments_lexer": "ipython3",
   "version": "3.8.5"
  }
 },
 "nbformat": 4,
 "nbformat_minor": 4
}
